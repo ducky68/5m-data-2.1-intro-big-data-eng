{
 "cells": [
  {
   "cell_type": "code",
   "execution_count": 1,
   "id": "af1d5077",
   "metadata": {},
   "outputs": [
    {
     "name": "stdout",
     "output_type": "stream",
     "text": [
      "✅ Successfully connected to MongoDB!\n",
      "🔒 Password was entered securely (not stored in code)\n"
     ]
    }
   ],
   "source": [
    "# SECURE CONNECTION: No hardcoded passwords\n",
    "import getpass\n",
    "import pymongo\n",
    "from pymongo.mongo_client import MongoClient\n",
    "from pymongo.server_api import ServerApi\n",
    "\n",
    "# Pre-fill known values, only prompt for password securely\n",
    "username = \"alwynquek07\"  # Your known username\n",
    "cluster = \"cluster0.ioejg3g.mongodb.net\"  # Your known cluster\n",
    "\n",
    "# Only ask for password securely (won't show on screen)\n",
    "password = getpass.getpass(f\"Enter password for {username}: \")\n",
    "\n",
    "# Build URI using secure input\n",
    "uri = f\"mongodb+srv://{username}:{password}@{cluster}/?retryWrites=true&w=majority&appName=Cluster0\"\n",
    "\n",
    "# Create a new client and connect to the server\n",
    "client = MongoClient(uri, server_api=ServerApi('1'))\n",
    "\n",
    "# Send a ping to confirm a successful connection\n",
    "try:\n",
    "    client.admin.command('ping')\n",
    "    print(\"✅ Successfully connected to MongoDB!\")\n",
    "    print(\"🔒 Password was entered securely (not stored in code)\")\n",
    "except Exception as e:\n",
    "    print(f\"❌ Connection failed: {e}\")"
   ]
  },
  {
   "cell_type": "code",
   "execution_count": 2,
   "id": "9514a0e8",
   "metadata": {},
   "outputs": [],
   "source": [
    "client.list_database_names()\n",
    "db = client.sample_mflix\n",
    "movies = db.movies"
   ]
  },
  {
   "cell_type": "markdown",
   "id": "e0c8a061",
   "metadata": {},
   "source": [
    "Question: From the `movies` collection, return the documents with the `plot` that starts with `\"war\"` in acending order of released date, print only title, plot and released fields. Limit the result to 5."
   ]
  },
  {
   "cell_type": "code",
   "execution_count": 3,
   "id": "4c75fef2",
   "metadata": {},
   "outputs": [
    {
     "name": "stdout",
     "output_type": "stream",
     "text": [
      "{'_id': ObjectId('573a1398f29313caabce9508'), 'plot': 'Warrior/pacifist Princess Nausicaè desperately struggles to prevent two warring nations from destroying themselves and their dying planet.', 'title': 'Nausicaè of the Valley of the Wind', 'released': datetime.datetime(1984, 3, 11, 0, 0)}\n",
      "{'_id': ObjectId('573a1398f29313caabce91ec'), 'plot': 'Warrior/pacifist Princess Nausicaè desperately struggles to prevent two warring nations from destroying themselves and their dying planet.', 'title': 'Nausicaè of the Valley of the Wind', 'released': datetime.datetime(1984, 3, 11, 0, 0)}\n",
      "{'_id': ObjectId('573a1398f29313caabcebfc6'), 'plot': 'Warlords Kagetora and Takeda each wish to prevent the other from gaining hegemony in feudal Japan. The two samurai leaders pursue one another across the countryside, engaging in massive ...', 'title': 'Heaven and Earth', 'released': datetime.datetime(1991, 2, 8, 0, 0)}\n",
      "{'_id': ObjectId('573a13b5f29313caabd44f06'), 'plot': 'Warning! This synopsis contains spoilers Bajo las estrellas (beneath the stars) features the selfish...', 'title': 'Under the Stars', 'released': datetime.datetime(2007, 6, 15, 0, 0)}\n",
      "{'_id': ObjectId('573a13b7f29313caabd49fe5'), 'plot': 'Warring alien and predator races descend on a small town, where unsuspecting residents must band together for any chance of survival.', 'title': 'Aliens vs. Predator: Requiem', 'released': datetime.datetime(2007, 12, 25, 0, 0)}\n"
     ]
    }
   ],
   "source": [
    "db = client.sample_mflix\n",
    "movies = db.movies\n",
    "pipeline = [\n",
    "    {\"$match\": {\"plot\": {\"$regex\": \"^war\", \"$options\": \"i\"}}},\n",
    "    {\"$project\": {\"title\": 1, \"plot\": 1, \"released\": 1}},\n",
    "    {\"$sort\": {\"released\": 1}},\n",
    "    {\"$limit\": 5}\n",
    "]\n",
    "result = movies.aggregate(pipeline)\n",
    "for movie in result:\n",
    "    print(movie)"
   ]
  },
  {
   "cell_type": "code",
   "execution_count": 8,
   "id": "2cfaf4bf",
   "metadata": {},
   "outputs": [
    {
     "name": "stdout",
     "output_type": "stream",
     "text": [
      "{'title': 'Nausicaè of the Valley of the Wind', 'plot': 'Warrior/pacifist Princess Nausicaè desperately struggles to prevent two warring nations from destroying themselves and their dying planet.', 'released': datetime.datetime(1984, 3, 11, 0, 0)}\n",
      "{'title': 'Nausicaè of the Valley of the Wind', 'plot': 'Warrior/pacifist Princess Nausicaè desperately struggles to prevent two warring nations from destroying themselves and their dying planet.', 'released': datetime.datetime(1984, 3, 11, 0, 0)}\n",
      "{'title': 'Heaven and Earth', 'plot': 'Warlords Kagetora and Takeda each wish to prevent the other from gaining hegemony in feudal Japan. The two samurai leaders pursue one another across the countryside, engaging in massive ...', 'released': datetime.datetime(1991, 2, 8, 0, 0)}\n",
      "{'title': 'Under the Stars', 'plot': 'Warning! This synopsis contains spoilers Bajo las estrellas (beneath the stars) features the selfish...', 'released': datetime.datetime(2007, 6, 15, 0, 0)}\n",
      "{'title': 'Aliens vs. Predator: Requiem', 'plot': 'Warring alien and predator races descend on a small town, where unsuspecting residents must band together for any chance of survival.', 'released': datetime.datetime(2007, 12, 25, 0, 0)}\n"
     ]
    }
   ],
   "source": [
    "for movie in movies.find({\"plot\": {\"$regex\": \"^war\", \"$options\": \"i\"}}) \\\n",
    "                   .sort(\"released\", pymongo.ASCENDING) \\\n",
    "                   .limit(5):\n",
    "    print({\n",
    "        \"title\": movie.get(\"title\"),\n",
    "        \"plot\": movie.get(\"plot\"),\n",
    "        \"released\": movie.get(\"released\")\n",
    "    })"
   ]
  },
  {
   "cell_type": "markdown",
   "id": "149f51b0",
   "metadata": {},
   "source": [
    "Question: Group by `rated` and count the number of movies in each.\n"
   ]
  },
  {
   "cell_type": "code",
   "execution_count": 9,
   "id": "e8431b0d",
   "metadata": {},
   "outputs": [
    {
     "name": "stdout",
     "output_type": "stream",
     "text": [
      "Rating: GP, Count: 44\n",
      "Rating: Not Rated, Count: 1\n",
      "Rating: TV-PG, Count: 76\n",
      "Rating: G, Count: 477\n",
      "Rating: OPEN, Count: 1\n",
      "Rating: R, Count: 5537\n",
      "Rating: APPROVED, Count: 709\n",
      "Rating: PG-13, Count: 2321\n",
      "Rating: PG, Count: 1852\n",
      "Rating: TV-Y7, Count: 3\n",
      "Rating: TV-G, Count: 59\n",
      "Rating: AO, Count: 3\n",
      "Rating: Approved, Count: 5\n",
      "Rating: M, Count: 37\n",
      "Rating: TV-14, Count: 89\n",
      "Rating: PASSED, Count: 181\n",
      "Rating: TV-MA, Count: 60\n",
      "Rating: None, Count: 9894\n"
     ]
    }
   ],
   "source": [
    "#Group by `rated` and count the number of movies in each\n",
    "pipeline = [\n",
    "    {\n",
    "        \"$group\": {\n",
    "            \"_id\": \"$rated\",\n",
    "            \"count\": {\"$sum\": 1}\n",
    "        }\n",
    "    }\n",
    "]\n",
    "\n",
    "# Execute the aggregation pipeline\n",
    "results = movies.aggregate(pipeline)\n",
    "\n",
    "# Print the results\n",
    "for result in results:\n",
    "    print(f\"Rating: {result['_id']}, Count: {result['count']}\")"
   ]
  },
  {
   "cell_type": "code",
   "execution_count": null,
   "id": "7e8215fc",
   "metadata": {},
   "outputs": [],
   "source": []
  },
  {
   "cell_type": "markdown",
   "id": "7c1538cb",
   "metadata": {},
   "source": [
    "Question: Count the number of movies with 3 comments or more.\n"
   ]
  },
  {
   "cell_type": "code",
   "execution_count": 13,
   "id": "521f2394",
   "metadata": {},
   "outputs": [
    {
     "name": "stdout",
     "output_type": "stream",
     "text": [
      "Number of movies with 3 comments or more: 385\n"
     ]
    }
   ],
   "source": [
    "# Count the number of movies with 3 comments or more (optimized pipeline)\n",
    "# Ensure index exists for fast lookup\n",
    "index_name = db.comments.create_index(\"movie_id\")\n",
    "\n",
    "pipeline = [\n",
    "    {\"$lookup\": {\n",
    "        \"from\": \"comments\",\n",
    "        \"let\": {\"movie_id\": \"$_id\"},\n",
    "        \"pipeline\": [\n",
    "            { \"$match\": { \"$expr\": { \"$eq\": [\"$movie_id\", \"$$movie_id\"] } } }\n",
    "        ],\n",
    "        \"as\": \"comments\"\n",
    "    }},\n",
    "    {\"$match\": {\n",
    "        \"$expr\": {\n",
    "            \"$gte\": [{ \"$size\": \"$comments\" }, 3]\n",
    "        }\n",
    "    }},\n",
    "    {\"$count\": \"num_movies\"}\n",
    "]\n",
    "\n",
    "# Execute the aggregation pipeline\n",
    "results = movies.aggregate(pipeline)\n",
    "\n",
    "# Print the results\n",
    "for result in results:\n",
    "    print(f\"Number of movies with 3 comments or more: {result['num_movies']}\")"
   ]
  }
 ],
 "metadata": {
  "kernelspec": {
   "display_name": "bde",
   "language": "python",
   "name": "python3"
  },
  "language_info": {
   "codemirror_mode": {
    "name": "ipython",
    "version": 3
   },
   "file_extension": ".py",
   "mimetype": "text/x-python",
   "name": "python",
   "nbconvert_exporter": "python",
   "pygments_lexer": "ipython3",
   "version": "3.10.13"
  }
 },
 "nbformat": 4,
 "nbformat_minor": 5
}
